{
 "cells": [
  {
   "cell_type": "code",
   "execution_count": 1,
   "metadata": {},
   "outputs": [],
   "source": [
    "import sys\n",
    "sys.path.insert(0, '/Users/maithilypande/Downloads/dataset_diabetes/diabetic_data.csv')\n",
    "import pandas as pd\n",
    "import numpy as np\n",
    "import data_loader\n",
    "from pandas.plotting import scatter_matrix\n",
    "import matplotlib.pyplot as plt\n",
    "%matplotlib inline\n",
    "pd.set_option('display.max_columns', 500)\n"
   ]
  },
  {
   "cell_type": "markdown",
   "metadata": {},
   "source": [
    "## Data Splitting"
   ]
  },
  {
   "cell_type": "code",
   "execution_count": 2,
   "metadata": {},
   "outputs": [],
   "source": [
    "ret = data_loader.load_dataset('/Users/maithilypande/Downloads/dataset_diabetes/diabetic_data.csv', valid_rate=0.15)\n",
    "train_features_list = ret[0]\n",
    "train_label_list = ret[1]\n",
    "valid_features_list = ret[2]\n",
    "valid_label_list = ret[3]\n",
    "test_features_list = ret[4]\n",
    "test_label_list = ret[5]"
   ]
  },
  {
   "cell_type": "code",
   "execution_count": 3,
   "metadata": {},
   "outputs": [],
   "source": [
    "def formDataFrame(list):\n",
    "    x = pd.DataFrame(list)    \n",
    "    x.columns = ['encounter_id', 'patient_nbr', 'race', 'gender', 'age', 'weight',\n",
    "       'admission_type_id', 'discharge_disposition_id', 'admission_source_id',\n",
    "       'time_in_hospital', 'payer_code', 'medical_specialty',\n",
    "       'num_lab_procedures', 'num_procedures', 'num_medications',\n",
    "       'number_outpatient', 'number_emergency', 'number_inpatient', 'diag_1',\n",
    "       'diag_2', 'diag_3', 'number_diagnoses', 'max_glu_serum', 'A1Cresult',\n",
    "       'metformin', 'repaglinide', 'nateglinide', 'chlorpropamide',\n",
    "       'glimepiride', 'acetohexamide', 'glipizide', 'glyburide', 'tolbutamide',\n",
    "       'pioglitazone', 'rosiglitazone', 'acarbose', 'miglitol', 'troglitazone',\n",
    "       'tolazamide', 'examide', 'citoglipton', 'insulin',\n",
    "       'glyburide-metformin', 'glipizide-metformin',\n",
    "       'glimepiride-pioglitazone', 'metformin-rosiglitazone',\n",
    "       'metformin-pioglitazone', 'change', 'diabetesMed']   \n",
    "    return x"
   ]
  },
  {
   "cell_type": "code",
   "execution_count": 4,
   "metadata": {},
   "outputs": [],
   "source": [
    "df_train = formDataFrame(train_features_list)"
   ]
  },
  {
   "cell_type": "markdown",
   "metadata": {},
   "source": [
    "## Data Visualization"
   ]
  },
  {
   "cell_type": "code",
   "execution_count": null,
   "metadata": {},
   "outputs": [],
   "source": [
    "diabetes = formDataFrame(train_features_list)"
   ]
  },
  {
   "cell_type": "code",
   "execution_count": null,
   "metadata": {},
   "outputs": [],
   "source": [
    "diabetes.head()  "
   ]
  },
  {
   "cell_type": "code",
   "execution_count": null,
   "metadata": {},
   "outputs": [],
   "source": [
    "print(\"dimension of diabetes data: {}\".format(diabetes.shape))"
   ]
  },
  {
   "cell_type": "code",
   "execution_count": null,
   "metadata": {},
   "outputs": [],
   "source": [
    "df.info()"
   ]
  },
  {
   "cell_type": "code",
   "execution_count": null,
   "metadata": {},
   "outputs": [],
   "source": [
    "diabetes.groupby('citoglipton').size()"
   ]
  },
  {
   "cell_type": "code",
   "execution_count": null,
   "metadata": {},
   "outputs": [],
   "source": [
    "diabetes.groupby('examide').size()"
   ]
  },
  {
   "cell_type": "code",
   "execution_count": null,
   "metadata": {},
   "outputs": [],
   "source": [
    "for c in list(df.columns):   \n",
    "    n = df[c].unique()\n",
    "    if len(n)<30:\n",
    "        print(c)\n",
    "        print(n)\n",
    "    else:\n",
    "        print(c + ': ' +str(len(n)) + ' unique values')"
   ]
  },
  {
   "cell_type": "code",
   "execution_count": null,
   "metadata": {},
   "outputs": [],
   "source": [
    "scatter_matrix(df_data)\n",
    "plt.show()\n",
    "\n",
    "import seaborn as sns\n",
    "sns.set(style=\"ticks\")\n",
    "\n",
    "\n",
    "sns.pairplot(df_data, hue = \"OUTPUT_LABEL\")"
   ]
  },
  {
   "cell_type": "code",
   "execution_count": null,
   "metadata": {},
   "outputs": [],
   "source": [
    "import seaborn as sns\n",
    "sns.countplot(df_data['OUTPUT_LABEL'],label=\"Count\").set_title('Training Set Output feature distribution')"
   ]
  },
  {
   "cell_type": "code",
   "execution_count": null,
   "metadata": {},
   "outputs": [],
   "source": [
    "features=['metformin', 'repaglinide', 'nateglinide', 'chlorpropamide', 'glimepiride',\n",
    "               'acetohexamide', 'glipizide', 'glyburide', 'tolbutamide', 'pioglitazone',\n",
    "               'rosiglitazone', 'acarbose', 'miglitol', 'troglitazone', 'tolazamide', 'examide',\n",
    "               'citoglipton', 'glyburide-metformin', 'glipizide-metformin', 'glimepiride-pioglitazone',\n",
    "               'metformin-rosiglitazone', 'metformin-pioglitazone','insulin']\n",
    "for i in range(23):\n",
    "    diabetes.groupby(features[i]).size().plot(kind='bar')\n",
    "    plt.show()"
   ]
  },
  {
   "cell_type": "markdown",
   "metadata": {},
   "source": [
    "## Data Preprocessing"
   ]
  },
  {
   "cell_type": "code",
   "execution_count": 5,
   "metadata": {},
   "outputs": [],
   "source": [
    "cols_num = ['time_in_hospital','num_lab_procedures', 'num_procedures', 'num_medications',\n",
    "       'number_outpatient', 'number_emergency', 'number_inpatient','number_diagnoses','diag1']\n",
    "cols_cat = ['race', 'gender', 'max_glu_serum', 'A1Cresult','change', 'diabetesMed']\n",
    "cols_cat_num = ['admission_type_id', 'discharge_disposition_id']"
   ]
  },
  {
   "cell_type": "code",
   "execution_count": 6,
   "metadata": {},
   "outputs": [],
   "source": [
    "def preprocess1(df):\n",
    "    drop_Idx = set(df[(df['diag_1'] == '?') & (df['diag_2'] == '?') & (df['diag_3'] == '?')].index)\n",
    "    drop_Idx = drop_Idx.union(set(df['gender'][df['gender'] == 'Unknown/Invalid'].index))\n",
    "    new_Idx = list(set(df.index) - set(drop_Idx))\n",
    "    df = df.iloc[new_Idx]\n",
    "    df = df.replace('?',np.nan)\n",
    "    df = df.loc[~df.discharge_disposition_id.isin([11,13,14,19,20,21])]\n",
    "    df.drop(['payer_code','medical_specialty','weight','diag_2','diag_3'], axis=1) \n",
    "    df['race'] = df['race'].fillna('UNK')\n",
    "    df = df.drop_duplicates(subset= ['patient_nbr'], keep = 'first')\n",
    "    df[cols_cat_num] = df[cols_cat_num].astype('str')\n",
    "    return df"
   ]
  },
  {
   "cell_type": "code",
   "execution_count": 7,
   "metadata": {},
   "outputs": [],
   "source": [
    "def preprocess2(label_list, df):\n",
    "    df_cat = pd.get_dummies(df[cols_cat + cols_cat_num ],drop_first = False)\n",
    "    df = pd.concat([df,df_cat], axis = 1)\n",
    "    cols_all_cat = list(df_cat.columns)\n",
    "    age_id = {'[0-10)':0, '[10-20)':10, '[20-30)':20, '[30-40)':30, '[40-50)':40, '[50-60)':50,'[60-70)':60, '[70-80)':70, '[80-90)':80, \n",
    "              '[90-100)':90}\n",
    "    df['age_group'] = df.age.replace(age_id)\n",
    "    cols_extra = ['age_group']\n",
    "    df['OUTPUT_LABEL'] = pd.Series(train_label_list)   \n",
    "    col2use = cols_num + cols_all_cat + cols_extra\n",
    "    df_data = df[col2use+ ['OUTPUT_LABEL']]\n",
    "    return df_data, col2use"
   ]
  },
  {
   "cell_type": "code",
   "execution_count": 8,
   "metadata": {},
   "outputs": [],
   "source": [
    "def processCatCols(df):\n",
    "    for column in cols_cat:\n",
    "        category = df_train[column].unique()\n",
    "        df[column] = df[column].astype(\"category\", categories = category)\n",
    "    for col in cols_cat_num:\n",
    "        category = df_train[col].unique()\n",
    "        df[col] = df[col].astype(\"category\", categories = category)  \n",
    "    return df"
   ]
  },
  {
   "cell_type": "code",
   "execution_count": 9,
   "metadata": {},
   "outputs": [],
   "source": [
    "def Diag(df):\n",
    "    df['diag1'] = df['diag_1']   \n",
    "    df.loc[df['diag_1'].str.contains('V'), ['diag1']] = 0\n",
    "    df.loc[df['diag_1'].str.contains('E'), ['diag1']] = 0\n",
    "    df['diag1'] = df['diag1'].replace('?', -1)\n",
    "    df['diag1'] = df['diag1'].astype(float)\n",
    "    return df"
   ]
  },
  {
   "cell_type": "markdown",
   "metadata": {},
   "source": [
    "### Train Preprocess"
   ]
  },
  {
   "cell_type": "code",
   "execution_count": 10,
   "metadata": {},
   "outputs": [
    {
     "data": {
      "text/plain": [
       "(77854, 49)"
      ]
     },
     "execution_count": 10,
     "metadata": {},
     "output_type": "execute_result"
    }
   ],
   "source": [
    "df_train.shape"
   ]
  },
  {
   "cell_type": "code",
   "execution_count": 11,
   "metadata": {},
   "outputs": [],
   "source": [
    "df_train = formDataFrame(train_features_list)\n",
    "df_train = Diag(df_train)\n",
    "df_train = preprocess1(df_train)\n",
    "df_data_train, cols2use = preprocess2(train_label_list, df_train)"
   ]
  },
  {
   "cell_type": "code",
   "execution_count": 12,
   "metadata": {},
   "outputs": [
    {
     "name": "stdout",
     "output_type": "stream",
     "text": [
      "(56747, 59)\n",
      "(56747,)\n"
     ]
    }
   ],
   "source": [
    "y_train = df_data_train['OUTPUT_LABEL'].values\n",
    "X_train = df_data_train[cols2use].values\n",
    "print(X_train.shape)\n",
    "print(y_train.shape)"
   ]
  },
  {
   "cell_type": "markdown",
   "metadata": {},
   "source": [
    "### Validation Preprocess"
   ]
  },
  {
   "cell_type": "code",
   "execution_count": 13,
   "metadata": {},
   "outputs": [
    {
     "name": "stdout",
     "output_type": "stream",
     "text": [
      "(13737, 49)\n",
      "(12478, 50)\n",
      "(12478, 50)\n",
      "(12478, 60)\n"
     ]
    },
    {
     "name": "stderr",
     "output_type": "stream",
     "text": [
      "/anaconda3/lib/python3.6/site-packages/ipykernel_launcher.py:6: FutureWarning: specifying 'categories' or 'ordered' in .astype() is deprecated; pass a CategoricalDtype instead\n",
      "  \n"
     ]
    }
   ],
   "source": [
    "df_valid = formDataFrame(valid_features_list)\n",
    "print(df_valid.shape)\n",
    "df_valid = Diag(df_valid)\n",
    "df_valid = preprocess1(df_valid)\n",
    "print(df_valid.shape)\n",
    "df_valid = processCatCols(df_valid)\n",
    "print(df_valid.shape)\n",
    "df_data_valid, col2use = preprocess2(valid_label_list, df_valid)\n",
    "print(df_data_valid.shape)"
   ]
  },
  {
   "cell_type": "code",
   "execution_count": 14,
   "metadata": {},
   "outputs": [
    {
     "name": "stdout",
     "output_type": "stream",
     "text": [
      "(12478, 59)\n",
      "(12478,)\n"
     ]
    }
   ],
   "source": [
    "y_valid = df_data_valid['OUTPUT_LABEL'].values\n",
    "X_valid = df_data_valid[col2use].values\n",
    "\n",
    "print(X_valid.shape)\n",
    "print(y_valid.shape)"
   ]
  },
  {
   "cell_type": "markdown",
   "metadata": {},
   "source": [
    "### Test Preprocess"
   ]
  },
  {
   "cell_type": "code",
   "execution_count": 15,
   "metadata": {},
   "outputs": [
    {
     "name": "stderr",
     "output_type": "stream",
     "text": [
      "/anaconda3/lib/python3.6/site-packages/ipykernel_launcher.py:5: FutureWarning: specifying 'categories' or 'ordered' in .astype() is deprecated; pass a CategoricalDtype instead\n",
      "  \"\"\"\n"
     ]
    }
   ],
   "source": [
    "df_test = formDataFrame(test_features_list)\n",
    "df_test = Diag(df_test)\n",
    "df_test = preprocess1(df_test)\n",
    "\n",
    "df_test = processCatCols(df_test)\n",
    "df_data_test, col2use = preprocess2(test_label_list, df_test)"
   ]
  },
  {
   "cell_type": "code",
   "execution_count": 16,
   "metadata": {
    "scrolled": true
   },
   "outputs": [
    {
     "name": "stdout",
     "output_type": "stream",
     "text": [
      "(9370, 59)\n",
      "(9370,)\n"
     ]
    }
   ],
   "source": [
    "y_test = df_data_test['OUTPUT_LABEL'].values\n",
    "X_test = df_data_test[col2use].values\n",
    "\n",
    "print(X_test.shape)\n",
    "print(y_test.shape)"
   ]
  },
  {
   "cell_type": "markdown",
   "metadata": {},
   "source": [
    "## Models"
   ]
  },
  {
   "cell_type": "markdown",
   "metadata": {},
   "source": [
    "### Logistic Regression ###"
   ]
  },
  {
   "cell_type": "code",
   "execution_count": 17,
   "metadata": {},
   "outputs": [
    {
     "name": "stderr",
     "output_type": "stream",
     "text": [
      "/anaconda3/lib/python3.6/site-packages/sklearn/utils/optimize.py:203: ConvergenceWarning: newton-cg failed to converge. Increase the number of iterations.\n",
      "  \"number of iterations.\", ConvergenceWarning)\n",
      "/anaconda3/lib/python3.6/site-packages/sklearn/utils/optimize.py:203: ConvergenceWarning: newton-cg failed to converge. Increase the number of iterations.\n",
      "  \"number of iterations.\", ConvergenceWarning)\n"
     ]
    },
    {
     "name": "stdout",
     "output_type": "stream",
     "text": [
      "Training set score: 0.6462368054698927\n",
      "Valid set score: 0.520676390447187\n",
      "Test set score: 0.5277481323372465\n"
     ]
    },
    {
     "name": "stderr",
     "output_type": "stream",
     "text": [
      "/anaconda3/lib/python3.6/site-packages/sklearn/utils/optimize.py:203: ConvergenceWarning: newton-cg failed to converge. Increase the number of iterations.\n",
      "  \"number of iterations.\", ConvergenceWarning)\n"
     ]
    }
   ],
   "source": [
    "from sklearn.linear_model import LogisticRegression\n",
    "logreg = LogisticRegression(max_iter=50, multi_class='ovr',solver='newton-cg').fit(X_train, y_train)\n",
    "print(\"Training set score:\",logreg.score(X_train, y_train))\n",
    "print(\"Valid set score:\",logreg.score(X_valid, y_valid))\n",
    "print(\"Test set score:\",logreg.score(X_test, y_test))"
   ]
  },
  {
   "cell_type": "code",
   "execution_count": 18,
   "metadata": {},
   "outputs": [
    {
     "name": "stderr",
     "output_type": "stream",
     "text": [
      "/anaconda3/lib/python3.6/site-packages/sklearn/model_selection/_split.py:2053: FutureWarning: You should specify a value for 'cv' instead of relying on the default value. The default value will change from 3 to 5 in version 0.22.\n",
      "  warnings.warn(CV_WARNING, FutureWarning)\n",
      "/anaconda3/lib/python3.6/site-packages/sklearn/utils/optimize.py:203: ConvergenceWarning: newton-cg failed to converge. Increase the number of iterations.\n",
      "  \"number of iterations.\", ConvergenceWarning)\n",
      "/anaconda3/lib/python3.6/site-packages/sklearn/utils/optimize.py:203: ConvergenceWarning: newton-cg failed to converge. Increase the number of iterations.\n",
      "  \"number of iterations.\", ConvergenceWarning)\n",
      "/anaconda3/lib/python3.6/site-packages/sklearn/utils/optimize.py:203: ConvergenceWarning: newton-cg failed to converge. Increase the number of iterations.\n",
      "  \"number of iterations.\", ConvergenceWarning)\n",
      "/anaconda3/lib/python3.6/site-packages/sklearn/utils/optimize.py:203: ConvergenceWarning: newton-cg failed to converge. Increase the number of iterations.\n",
      "  \"number of iterations.\", ConvergenceWarning)\n",
      "/anaconda3/lib/python3.6/site-packages/sklearn/utils/optimize.py:203: ConvergenceWarning: newton-cg failed to converge. Increase the number of iterations.\n",
      "  \"number of iterations.\", ConvergenceWarning)\n",
      "/anaconda3/lib/python3.6/site-packages/sklearn/utils/optimize.py:203: ConvergenceWarning: newton-cg failed to converge. Increase the number of iterations.\n",
      "  \"number of iterations.\", ConvergenceWarning)\n",
      "/anaconda3/lib/python3.6/site-packages/sklearn/utils/optimize.py:203: ConvergenceWarning: newton-cg failed to converge. Increase the number of iterations.\n",
      "  \"number of iterations.\", ConvergenceWarning)\n",
      "/anaconda3/lib/python3.6/site-packages/sklearn/utils/optimize.py:203: ConvergenceWarning: newton-cg failed to converge. Increase the number of iterations.\n",
      "  \"number of iterations.\", ConvergenceWarning)\n",
      "/anaconda3/lib/python3.6/site-packages/sklearn/utils/optimize.py:203: ConvergenceWarning: newton-cg failed to converge. Increase the number of iterations.\n",
      "  \"number of iterations.\", ConvergenceWarning)\n",
      "/anaconda3/lib/python3.6/site-packages/sklearn/utils/optimize.py:203: ConvergenceWarning: newton-cg failed to converge. Increase the number of iterations.\n",
      "  \"number of iterations.\", ConvergenceWarning)\n",
      "/anaconda3/lib/python3.6/site-packages/sklearn/utils/optimize.py:203: ConvergenceWarning: newton-cg failed to converge. Increase the number of iterations.\n",
      "  \"number of iterations.\", ConvergenceWarning)\n",
      "/anaconda3/lib/python3.6/site-packages/sklearn/utils/optimize.py:203: ConvergenceWarning: newton-cg failed to converge. Increase the number of iterations.\n",
      "  \"number of iterations.\", ConvergenceWarning)\n",
      "/anaconda3/lib/python3.6/site-packages/sklearn/utils/optimize.py:203: ConvergenceWarning: newton-cg failed to converge. Increase the number of iterations.\n",
      "  \"number of iterations.\", ConvergenceWarning)\n",
      "/anaconda3/lib/python3.6/site-packages/sklearn/utils/optimize.py:203: ConvergenceWarning: newton-cg failed to converge. Increase the number of iterations.\n",
      "  \"number of iterations.\", ConvergenceWarning)\n",
      "/anaconda3/lib/python3.6/site-packages/sklearn/utils/optimize.py:203: ConvergenceWarning: newton-cg failed to converge. Increase the number of iterations.\n",
      "  \"number of iterations.\", ConvergenceWarning)\n"
     ]
    },
    {
     "data": {
      "text/plain": [
       "RFECV(cv='warn',\n",
       "   estimator=LogisticRegression(C=1.0, class_weight=None, dual=False, fit_intercept=True,\n",
       "          intercept_scaling=1, max_iter=50, multi_class='ovr', n_jobs=None,\n",
       "          penalty='l2', random_state=None, solver='newton-cg', tol=0.0001,\n",
       "          verbose=0, warm_start=False),\n",
       "   min_features_to_select=1, n_jobs=None, scoring='accuracy', step=1,\n",
       "   verbose=0)"
      ]
     },
     "execution_count": 18,
     "metadata": {},
     "output_type": "execute_result"
    }
   ],
   "source": [
    "from sklearn.feature_selection import RFECV\n",
    "logreg_model = logreg\n",
    "rfecv = RFECV(estimator=logreg_model, step=1, scoring='accuracy')\n",
    "rfecv.fit(X_train, y_train)"
   ]
  },
  {
   "cell_type": "code",
   "execution_count": 19,
   "metadata": {},
   "outputs": [
    {
     "data": {
      "image/png": "[encoded data removed]",
      "text/plain": [
       "<Figure size 432x288 with 1 Axes>"
      ]
     },
     "metadata": {
      "needs_background": "light"
     },
     "output_type": "display_data"
    }
   ],
   "source": [
    "plt.figure()\n",
    "plt.title('Logistic Regression CV score vs No of Features')\n",
    "plt.xlabel(\"Number of features selected\")\n",
    "plt.ylabel(\"Cross validation score (nb of correct classifications)\")\n",
    "plt.plot(range(1, len(rfecv.grid_scores_) + 1), rfecv.grid_scores_)\n",
    "plt.show()"
   ]
  },
  {
   "cell_type": "code",
   "execution_count": 42,
   "metadata": {},
   "outputs": [
    {
     "data": {
      "image/png": "[encoded data removed]",
      "text/plain": [
       "<Figure size 400x400 with 1 Axes>"
      ]
     },
     "metadata": {},
     "output_type": "display_data"
    }
   ],
   "source": [
    "feature_importances = pd.DataFrame(logreg.coef_[0],\n",
    "                                   index = col2use,\n",
    "                                    columns=['importance']).sort_values('importance',\n",
    "                                                                        ascending=False)\n",
    "num = 25\n",
    "ylocs = np.arange(num)\n",
    "values_to_plot = feature_importances.iloc[:num].values.ravel()[::-1]\n",
    "feature_labels = list(feature_importances.iloc[:num].index)[::-1]\n",
    "plt.figure(num=None, figsize=(5, 5), dpi = 80, facecolor='w', edgecolor='k');\n",
    "plt.barh(ylocs, values_to_plot, align = 'center')\n",
    "plt.ylabel('Features')\n",
    "plt.xlabel('Importance Score')\n",
    "plt.title('Positive Feature Importance Score - Logistic Regression')\n",
    "plt.yticks(ylocs, feature_labels)\n",
    "plt.show()"
   ]
  },
  {
   "cell_type": "markdown",
   "metadata": {},
   "source": [
    "### MLP"
   ]
  },
  {
   "cell_type": "code",
   "execution_count": 23,
   "metadata": {},
   "outputs": [
    {
     "name": "stdout",
     "output_type": "stream",
     "text": [
      "Iteration 1, loss = 1.23664868\n",
      "Iteration 2, loss = 0.92463795\n",
      "Iteration 3, loss = 0.87627706\n",
      "Iteration 4, loss = 0.86381680\n",
      "Iteration 5, loss = 0.85917437\n",
      "Iteration 6, loss = 0.85711888\n",
      "Iteration 7, loss = 0.85615039\n",
      "Iteration 8, loss = 0.85567506\n",
      "Iteration 9, loss = 0.85543173\n",
      "Iteration 10, loss = 0.85530344\n",
      "Iteration 11, loss = 0.85524586\n",
      "Iteration 12, loss = 0.85519724\n",
      "Iteration 13, loss = 0.85518175\n",
      "Iteration 14, loss = 0.85516513\n",
      "Iteration 15, loss = 0.85516538\n",
      "Iteration 16, loss = 0.85515672\n",
      "Iteration 17, loss = 0.85515108\n",
      "Iteration 18, loss = 0.85514893\n",
      "Iteration 19, loss = 0.85514976\n",
      "Iteration 20, loss = 0.85514543\n",
      "Iteration 21, loss = 0.85514512\n",
      "Training loss did not improve more than tol=0.000100 for 10 consecutive epochs. Stopping.\n",
      "train =  0.6356283151532239 valid =  0.5350216380830262 test =  0.5382070437566703\n"
     ]
    }
   ],
   "source": [
    "from sklearn.neural_network import MLPClassifier\n",
    "clf = MLPClassifier(solver = 'sgd', alpha=0.01,batch_size=200,\n",
    "                    hidden_layer_sizes=(256,128,3), verbose = True, activation = 'relu')\n",
    "clf.fit(X_train, y_train)\n",
    "loss = []\n",
    "loss.append(clf.loss_)\n",
    "train_pred = clf.predict(X_train)\n",
    "valid_pred = clf.predict(X_valid)\n",
    "test_pred = clf.predict(X_test)\n",
    "from sklearn.metrics import accuracy_score\n",
    "accuracy1 = accuracy_score(y_train, train_pred)\n",
    "accuracy2 = accuracy_score(y_valid, valid_pred)\n",
    "accuracy3 = accuracy_score(y_test, test_pred)\n",
    "print(\"train = \", accuracy1, \"valid = \", accuracy2, \"test = \", accuracy3)"
   ]
  },
  {
   "cell_type": "code",
   "execution_count": 43,
   "metadata": {},
   "outputs": [
    {
     "data": {
      "image/png": "[encoded data removed]",
      "text/plain": [
       "<Figure size 432x288 with 1 Axes>"
      ]
     },
     "metadata": {
      "needs_background": "light"
     },
     "output_type": "display_data"
    }
   ],
   "source": [
    "#Collect loss values in an array and plot the graph\n",
    "loss_values = [0.99457122,0.88860118,0.86423100,0.85521767,0.85141342,0.84967812,0.84884067,0.84842612,0.84821510,0.84810091,0.84804736,0.84801786,0.84800166,0.84799057,0.84798473,0.84798377, 0.84798150,0.84798104,0.84798333,0.84798042,0.84798060 ]\n",
    "import matplotlib.pyplot as plt\n",
    "plt.plot(loss_values,range(1,22))\n",
    "plt.title('loss vs epochs')\n",
    "plt.ylabel('loss')\n",
    "plt.xlabel('Epochs')\n",
    "plt.show()"
   ]
  },
  {
   "cell_type": "markdown",
   "metadata": {},
   "source": [
    "### SGD"
   ]
  },
  {
   "cell_type": "code",
   "execution_count": 47,
   "metadata": {},
   "outputs": [
    {
     "name": "stderr",
     "output_type": "stream",
     "text": [
      "/anaconda3/lib/python3.6/site-packages/sklearn/linear_model/stochastic_gradient.py:166: FutureWarning: max_iter and tol parameters have been added in SGDClassifier in 0.19. If both are left unset, they default to max_iter=5 and tol=None. If tol is not None, max_iter defaults to max_iter=1000. From 0.21, default max_iter will be 1000, and default tol will be 1e-3.\n",
      "  FutureWarning)\n"
     ]
    },
    {
     "data": {
      "text/plain": [
       "SGDClassifier(alpha=0.6, average=False, class_weight=None,\n",
       "       early_stopping=False, epsilon=0.1, eta0=0.0, fit_intercept=True,\n",
       "       l1_ratio=0.15, learning_rate='optimal', loss='log', max_iter=None,\n",
       "       n_iter=None, n_iter_no_change=5, n_jobs=None, penalty='l2',\n",
       "       power_t=0.5, random_state=42, shuffle=True, tol=None,\n",
       "       validation_fraction=0.1, verbose=0, warm_start=False)"
      ]
     },
     "execution_count": 47,
     "metadata": {},
     "output_type": "execute_result"
    }
   ],
   "source": [
    "from sklearn.linear_model import SGDClassifier\n",
    "sgdc=SGDClassifier(loss = 'log',alpha = 0.6,random_state = 42)\n",
    "sgdc.fit(X_train, y_train)"
   ]
  },
  {
   "cell_type": "code",
   "execution_count": 48,
   "metadata": {},
   "outputs": [],
   "source": [
    "train_pred = sgdc.predict(X_train)\n",
    "valid_pred = sgdc.predict(X_valid)\n",
    "test_pred = sgdc.predict(X_test)"
   ]
  },
  {
   "cell_type": "code",
   "execution_count": 49,
   "metadata": {},
   "outputs": [
    {
     "name": "stdout",
     "output_type": "stream",
     "text": [
      "Accuracy: 0.6386416903096199\n",
      "Accuracy: 0.5274082384997596\n",
      "Accuracy: 0.532017075773746\n"
     ]
    }
   ],
   "source": [
    "from sklearn import metrics\n",
    "print(\"Accuracy:\",metrics.accuracy_score(train_pred,y_train))\n",
    "print(\"Accuracy:\",metrics.accuracy_score(valid_pred,y_valid))\n",
    "print(\"Accuracy:\",metrics.accuracy_score(test_pred,y_test))"
   ]
  },
  {
   "cell_type": "markdown",
   "metadata": {},
   "source": [
    "### Decision Tree"
   ]
  },
  {
   "cell_type": "code",
   "execution_count": 50,
   "metadata": {},
   "outputs": [
    {
     "name": "stdout",
     "output_type": "stream",
     "text": [
      "Accuracy: 1.0\n"
     ]
    }
   ],
   "source": [
    "from sklearn.tree import DecisionTreeClassifier\n",
    "tree = DecisionTreeClassifier(random_state=0)\n",
    "tree.fit(X_train, y_train)\n",
    "train_pred = tree.predict(X_train)\n",
    "from sklearn import metrics\n",
    "print(\"Accuracy:\",metrics.accuracy_score(train_pred,y_train))"
   ]
  },
  {
   "cell_type": "code",
   "execution_count": 70,
   "metadata": {},
   "outputs": [
    {
     "name": "stdout",
     "output_type": "stream",
     "text": [
      "Accuracy: 0.6441221562373342\n"
     ]
    }
   ],
   "source": [
    "tree = DecisionTreeClassifier(max_depth = 3, random_state=0)\n",
    "tree.fit(X_train, y_train)\n",
    "train_pred = tree.predict(X_train)\n",
    "from sklearn import metrics\n",
    "print(\"Accuracy:\",metrics.accuracy_score(train_pred,y_train))"
   ]
  },
  {
   "cell_type": "code",
   "execution_count": 71,
   "metadata": {},
   "outputs": [
    {
     "name": "stdout",
     "output_type": "stream",
     "text": [
      "Accuracy: 0.5064914249078378\n"
     ]
    }
   ],
   "source": [
    "tree = DecisionTreeClassifier(max_depth = 3, random_state=0)\n",
    "tree.fit(X_train, y_train)\n",
    "valid_pred = tree.predict(X_valid)\n",
    "from sklearn import metrics\n",
    "print(\"Accuracy:\",metrics.accuracy_score(valid_pred,y_valid))"
   ]
  },
  {
   "cell_type": "code",
   "execution_count": 72,
   "metadata": {},
   "outputs": [
    {
     "name": "stdout",
     "output_type": "stream",
     "text": [
      "Accuracy: 0.5082177161152615\n"
     ]
    }
   ],
   "source": [
    "tree = DecisionTreeClassifier(max_depth = 3, random_state=0)\n",
    "tree.fit(X_train, y_train)\n",
    "test_pred = tree.predict(X_test)\n",
    "from sklearn import metrics\n",
    "print(\"Accuracy:\",metrics.accuracy_score(test_pred,y_test))"
   ]
  },
  {
   "cell_type": "code",
   "execution_count": 54,
   "metadata": {},
   "outputs": [
    {
     "name": "stdout",
     "output_type": "stream",
     "text": [
      "Feature importances:\n",
      "[0. 0. 0. 1. 0. 0. 0. 0. 0. 0. 0. 0. 0. 0. 0. 0. 0. 0. 0. 0. 0. 0. 0. 0.\n",
      " 0. 0. 0. 0. 0. 0. 0. 0. 0. 0. 0. 0. 0. 0. 0. 0. 0. 0. 0. 0. 0. 0. 0. 0.\n",
      " 0. 0. 0. 0. 0. 0. 0. 0. 0. 0. 0.]\n"
     ]
    }
   ],
   "source": [
    "print(\"Feature importances:\\n{}\".format(tree.feature_importances_))"
   ]
  },
  {
   "cell_type": "code",
   "execution_count": 73,
   "metadata": {},
   "outputs": [
    {
     "name": "stdout",
     "output_type": "stream",
     "text": [
      "Confusion Metrix Valid:\n",
      " [[ 1975  1493   824]\n",
      " [14140 34577  3738]\n",
      " [    0     0     0]]\n",
      "Confusion Metrix Valid:\n",
      " [[ 544  900  157]\n",
      " [3842 5776 1259]\n",
      " [   0    0    0]]\n"
     ]
    }
   ],
   "source": [
    "print(\"Confusion Metrix Valid:\\n\",metrics.confusion_matrix(train_pred, y_train))\n",
    "print(\"Confusion Metrix Valid:\\n\",metrics.confusion_matrix(valid_pred, y_valid))"
   ]
  },
  {
   "cell_type": "markdown",
   "metadata": {},
   "source": [
    "### Random Forest"
   ]
  },
  {
   "cell_type": "code",
   "execution_count": 59,
   "metadata": {},
   "outputs": [
    {
     "name": "stdout",
     "output_type": "stream",
     "text": [
      "Accuracy: 1.0\n"
     ]
    }
   ],
   "source": [
    "from sklearn.ensemble import RandomForestClassifier\n",
    "rf = RandomForestClassifier(n_estimators=100, random_state=0)\n",
    "rf.fit(X_train, y_train)\n",
    "train_pred = rf.predict(X_train)\n",
    "from sklearn import metrics\n",
    "print(\"Accuracy:\",metrics.accuracy_score(train_pred,y_train))"
   ]
  },
  {
   "cell_type": "code",
   "execution_count": 60,
   "metadata": {},
   "outputs": [
    {
     "name": "stdout",
     "output_type": "stream",
     "text": [
      "{'bootstrap': True, 'class_weight': None, 'criterion': 'gini', 'max_depth': None, 'max_features': 'auto', 'max_leaf_nodes': None, 'min_impurity_decrease': 0.0, 'min_impurity_split': None, 'min_samples_leaf': 1, 'min_samples_split': 2, 'min_weight_fraction_leaf': 0.0, 'n_estimators': 100, 'n_jobs': None, 'oob_score': False, 'random_state': 0, 'verbose': 0, 'warm_start': False}\n"
     ]
    }
   ],
   "source": [
    "print(rf.get_params())"
   ]
  },
  {
   "cell_type": "code",
   "execution_count": 86,
   "metadata": {},
   "outputs": [
    {
     "name": "stdout",
     "output_type": "stream",
     "text": [
      "Accuracy: 0.6356283151532239\n"
     ]
    }
   ],
   "source": [
    "rf = RandomForestClassifier(max_depth=3, n_estimators=50, random_state=0)\n",
    "rf.fit(X_train, y_train)\n",
    "train_pred = rf.predict(X_train)\n",
    "from sklearn import metrics\n",
    "print(\"Accuracy:\",metrics.accuracy_score(train_pred,y_train))"
   ]
  },
  {
   "cell_type": "code",
   "execution_count": 62,
   "metadata": {},
   "outputs": [
    {
     "name": "stdout",
     "output_type": "stream",
     "text": [
      "{'bootstrap': True, 'class_weight': None, 'criterion': 'gini', 'max_depth': 1, 'max_features': 'auto', 'max_leaf_nodes': None, 'min_impurity_decrease': 0.0, 'min_impurity_split': None, 'min_samples_leaf': 250, 'min_samples_split': 2, 'min_weight_fraction_leaf': 0.0, 'n_estimators': 100, 'n_jobs': None, 'oob_score': False, 'random_state': 0, 'verbose': 0, 'warm_start': False}\n"
     ]
    }
   ],
   "source": [
    "print(rf.get_params())"
   ]
  },
  {
   "cell_type": "code",
   "execution_count": 87,
   "metadata": {},
   "outputs": [
    {
     "name": "stdout",
     "output_type": "stream",
     "text": [
      "Accuracy: 0.5350216380830262\n"
     ]
    }
   ],
   "source": [
    "rf = RandomForestClassifier(max_depth=3,n_estimators=50,random_state=0)\n",
    "rf.fit(X_train, y_train)\n",
    "valid_pred = rf.predict(X_valid)\n",
    "from sklearn import metrics\n",
    "print(\"Accuracy:\",metrics.accuracy_score(valid_pred,y_valid))"
   ]
  },
  {
   "cell_type": "code",
   "execution_count": 88,
   "metadata": {},
   "outputs": [
    {
     "name": "stdout",
     "output_type": "stream",
     "text": [
      "Accuracy: 0.5382070437566703\n"
     ]
    }
   ],
   "source": [
    "rf = RandomForestClassifier(max_depth=3,n_estimators=50, random_state=0)\n",
    "rf.fit(X_train, y_train)\n",
    "test_pred = rf.predict(X_test)\n",
    "from sklearn import metrics\n",
    "print(\"Accuracy:\",metrics.accuracy_score(test_pred,y_test))"
   ]
  },
  {
   "cell_type": "code",
   "execution_count": 90,
   "metadata": {},
   "outputs": [
    {
     "data": {
      "image/png": "[encoded data removed]",
      "text/plain": [
       "<Figure size 640x640 with 1 Axes>"
      ]
     },
     "metadata": {},
     "output_type": "display_data"
    }
   ],
   "source": [
    "feature_importances = pd.DataFrame(rf.feature_importances_,\n",
    "                                   index = col2use,\n",
    "                                    columns=['importance']).sort_values('importance', ascending=False)\n",
    "num = 30\n",
    "ylocs = np.arange(num)\n",
    "values_to_plot = feature_importances.iloc[:num].values.ravel()[::-1]\n",
    "feature_labels = list(feature_importances.iloc[:num].index)[::-1]\n",
    "plt.figure(num=None, figsize=(8, 8), dpi=80, facecolor='w', edgecolor='k');\n",
    "plt.barh(ylocs, values_to_plot, align = 'center')\n",
    "plt.ylabel('Features')\n",
    "plt.xlabel('Importance Score')\n",
    "plt.title('Feature Importance Score - Random Forest')\n",
    "plt.yticks(ylocs, feature_labels)\n",
    "plt.show()"
   ]
  },
  {
   "cell_type": "markdown",
   "metadata": {},
   "source": [
    "## Neural Networks ##"
   ]
  },
  {
   "cell_type": "code",
   "execution_count": 93,
   "metadata": {},
   "outputs": [
    {
     "name": "stdout",
     "output_type": "stream",
     "text": [
      "Train on 56747 samples, validate on 12478 samples\n",
      "Epoch 1/20\n",
      "56747/56747 [==============================] - 13s 234us/step - loss: 1.1106 - acc: 0.5042 - val_loss: 0.9861 - val_acc: 0.5225\n",
      "Epoch 2/20\n",
      "56747/56747 [==============================] - 10s 185us/step - loss: 0.9629 - acc: 0.5880 - val_loss: 0.9931 - val_acc: 0.4748\n",
      "Epoch 3/20\n",
      "56747/56747 [==============================] - 11s 196us/step - loss: 0.9205 - acc: 0.6051 - val_loss: 0.9972 - val_acc: 0.5347\n",
      "Epoch 4/20\n",
      "56747/56747 [==============================] - 11s 198us/step - loss: 0.8907 - acc: 0.6158 - val_loss: 1.0705 - val_acc: 0.5350\n",
      "Epoch 5/20\n",
      "56747/56747 [==============================] - 10s 184us/step - loss: 0.8772 - acc: 0.6218 - val_loss: 1.0106 - val_acc: 0.5344\n",
      "Epoch 6/20\n",
      "56747/56747 [==============================] - 10s 182us/step - loss: 0.8695 - acc: 0.6278 - val_loss: 0.9934 - val_acc: 0.5342\n",
      "Epoch 7/20\n",
      "56747/56747 [==============================] - 10s 181us/step - loss: 0.8604 - acc: 0.6294 - val_loss: 1.0649 - val_acc: 0.5333\n",
      "Epoch 8/20\n",
      "56747/56747 [==============================] - 10s 184us/step - loss: 0.8555 - acc: 0.6314 - val_loss: 0.9666 - val_acc: 0.5332\n",
      "Epoch 9/20\n",
      "56747/56747 [==============================] - 11s 186us/step - loss: 0.8542 - acc: 0.6326 - val_loss: 0.9880 - val_acc: 0.5338\n",
      "Epoch 10/20\n",
      "56747/56747 [==============================] - 10s 185us/step - loss: 0.8512 - acc: 0.6335 - val_loss: 0.9692 - val_acc: 0.5338\n",
      "Epoch 11/20\n",
      "56747/56747 [==============================] - 10s 185us/step - loss: 0.8481 - acc: 0.6337 - val_loss: 0.9675 - val_acc: 0.5309\n",
      "Epoch 12/20\n",
      "56747/56747 [==============================] - 11s 186us/step - loss: 0.8481 - acc: 0.6341 - val_loss: 0.9696 - val_acc: 0.5345\n",
      "Epoch 13/20\n",
      "56747/56747 [==============================] - 11s 191us/step - loss: 0.8442 - acc: 0.6346 - val_loss: 0.9971 - val_acc: 0.5344\n",
      "Epoch 14/20\n",
      "56747/56747 [==============================] - 11s 187us/step - loss: 0.8431 - acc: 0.6348 - val_loss: 0.9733 - val_acc: 0.4962\n",
      "Epoch 15/20\n",
      "56747/56747 [==============================] - 11s 189us/step - loss: 0.8412 - acc: 0.6346 - val_loss: 0.9631 - val_acc: 0.5342\n",
      "Epoch 16/20\n",
      "56747/56747 [==============================] - 11s 189us/step - loss: 0.8400 - acc: 0.6350 - val_loss: 0.9657 - val_acc: 0.5297\n",
      "Epoch 17/20\n",
      "56747/56747 [==============================] - 11s 192us/step - loss: 0.8407 - acc: 0.6351 - val_loss: 1.0336 - val_acc: 0.5343\n",
      "Epoch 18/20\n",
      "56747/56747 [==============================] - 11s 189us/step - loss: 0.8404 - acc: 0.6348 - val_loss: 1.0088 - val_acc: 0.5345\n",
      "Epoch 19/20\n",
      "56747/56747 [==============================] - 11s 194us/step - loss: 0.8395 - acc: 0.6355 - val_loss: 1.0513 - val_acc: 0.5345\n",
      "Epoch 20/20\n",
      "56747/56747 [==============================] - 11s 193us/step - loss: 0.8390 - acc: 0.6352 - val_loss: 0.9948 - val_acc: 0.5341\n"
     ]
    }
   ],
   "source": [
    "import keras\n",
    "from keras.models import Sequential\n",
    "from keras.layers import Dense, Flatten\n",
    "from keras.optimizers import SGD\n",
    "from keras.layers import Dropout \n",
    "from keras.layers.normalization import BatchNormalization \n",
    "nn = Sequential()\n",
    "nn.add(Dense(256, activation='relu', input_shape=(59,)))\n",
    "nn.add(BatchNormalization())\n",
    "nn.add(Dense(128, activation='relu'))\n",
    "nn.add(BatchNormalization())\n",
    "nn.add(Dropout(0.3))\n",
    "nn.add(Dense(3, activation='softmax'))\n",
    "nn.compile(loss='sparse_categorical_crossentropy', optimizer = SGD(lr = 0.00125), metrics=['accuracy'])\n",
    "history = nn.fit(X_train, y_train, batch_size = 32, epochs = 20, verbose = 1, validation_data= (X_valid, y_valid))\n",
    "loss_train, accuracy_train  = nn.evaluate(X_train, y_train, verbose=False)\n",
    "loss, accuracy  = nn.evaluate(X_valid, y_valid, verbose=False)\n",
    "loss_test, accuracy_test  = nn.evaluate(X_test, y_test, verbose=False)"
   ]
  },
  {
   "cell_type": "code",
   "execution_count": 94,
   "metadata": {},
   "outputs": [
    {
     "name": "stdout",
     "output_type": "stream",
     "text": [
      "Train accuracy:  0.6351701411570377\n",
      "Valid accuracy:  0.5340599455423014\n",
      "Test accuracy:  0.5367129135538954\n"
     ]
    }
   ],
   "source": [
    "print('Train accuracy: ', accuracy_train)\n",
    "print('Valid accuracy: ',accuracy)\n",
    "print('Test accuracy: ',accuracy_test)"
   ]
  },
  {
   "cell_type": "code",
   "execution_count": 95,
   "metadata": {},
   "outputs": [
    {
     "data": {
      "image/png": "[encoded data removed]",
      "text/plain": [
       "<Figure size 432x288 with 1 Axes>"
      ]
     },
     "metadata": {
      "needs_background": "light"
     },
     "output_type": "display_data"
    }
   ],
   "source": [
    "plt.plot(history.history['acc'])\n",
    "plt.plot(history.history['val_acc'])\n",
    "plt.title('model accuracy')\n",
    "plt.ylabel('accuracy')\n",
    "plt.xlabel('epoch')\n",
    "plt.legend(['training', 'validation'], loc='best')\n",
    "plt.show()"
   ]
  },
  {
   "cell_type": "markdown",
   "metadata": {},
   "source": [
    "## Model Comparison ##"
   ]
  },
  {
   "cell_type": "code",
   "execution_count": 96,
   "metadata": {},
   "outputs": [],
   "source": [
    "df_results = pd.DataFrame({'classifier':['LR','LR','LR','MLP','MLP','MLP','DT','DT','DT','RF','RF','RF','NN','NN','NN'],\n",
    "                           'data_set':['train','valid','Test']*5,\n",
    "                          'accuracy':[0.6462368054698927, 0.520676390447187,0.5277481323372465,\n",
    "                                      0.6356283151532239,0.5350216380830262,0.5382070437566703,\n",
    "                                      0.6441221562373342, 0.5064914249078378,0.5082177161152615,\n",
    "                                      0.6356283151532239,0.5350216380830262,0.5382070437566703,\n",
    "                                      0.6351701411570377,0.5340599455423014,0.5367129135538954,]})\n",
    "                          "
   ]
  },
  {
   "cell_type": "code",
   "execution_count": 97,
   "metadata": {},
   "outputs": [],
   "source": [
    "import seaborn as sns\n",
    "import matplotlib.pyplot as plt\n",
    "sns.set(style=\"darkgrid\")"
   ]
  },
  {
   "cell_type": "code",
   "execution_count": 98,
   "metadata": {},
   "outputs": [
    {
     "data": {
      "image/png": "[encoded data removed]",
      "text/plain": [
       "<Figure size 432x288 with 1 Axes>"
      ]
     },
     "metadata": {},
     "output_type": "display_data"
    }
   ],
   "source": [
    "ax = sns.barplot(x=\"classifier\", y=\"accuracy\", hue=\"data_set\", data=df_results)\n",
    "ax.set_xlabel('Classifier',fontsize = 15)\n",
    "ax.set_ylabel('accuracy', fontsize = 15)\n",
    "ax.tick_params(labelsize=15)\n",
    "plt.legend(bbox_to_anchor=(1.05, 1), loc=2, borderaxespad=0., fontsize = 15)\n",
    "plt.show()"
   ]
  }
 ],
 "metadata": {
  "kernelspec": {
   "display_name": "Python 3",
   "language": "python",
   "name": "python3"
  },
  "language_info": {
   "codemirror_mode": {
    "name": "ipython",
    "version": 3
   },
   "file_extension": ".py",
   "mimetype": "text/x-python",
   "name": "python",
   "nbconvert_exporter": "python",
   "pygments_lexer": "ipython3",
   "version": "3.6.8"
  }
 },
 "nbformat": 4,
 "nbformat_minor": 2
}
